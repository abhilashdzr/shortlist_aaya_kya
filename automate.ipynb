{
 "cells": [
  {
   "cell_type": "code",
   "execution_count": 1,
   "metadata": {},
   "outputs": [
    {
     "name": "stdout",
     "output_type": "stream",
     "text": [
      "Collecting package metadata (current_repodata.json): done\n",
      "Solving environment: failed with initial frozen solve. Retrying with flexible solve.\n",
      "Collecting package metadata (repodata.json): done\n",
      "Solving environment: failed with initial frozen solve. Retrying with flexible solve.\n",
      "\n",
      "PackagesNotFoundError: The following packages are not available from current channels:\n",
      "\n",
      "  - winsound\n",
      "\n",
      "Current channels:\n",
      "\n",
      "  - https://repo.anaconda.com/pkgs/main/linux-64\n",
      "  - https://repo.anaconda.com/pkgs/main/noarch\n",
      "  - https://repo.anaconda.com/pkgs/r/linux-64\n",
      "  - https://repo.anaconda.com/pkgs/r/noarch\n",
      "\n",
      "To search for alternate channels that may provide the conda package you're\n",
      "looking for, navigate to\n",
      "\n",
      "    https://anaconda.org\n",
      "\n",
      "and use the search bar at the top of the page.\n",
      "\n",
      "\n",
      "\n",
      "Note: you may need to restart the kernel to use updated packages.\n"
     ]
    }
   ],
   "source": [
    "conda install winsound"
   ]
  },
  {
   "cell_type": "code",
   "execution_count": 5,
   "metadata": {},
   "outputs": [],
   "source": [
    "from lxml import html\n",
    "from selenium import webdriver\n",
    "from selenium.webdriver import Chrome\n",
    "from selenium.webdriver.chrome.options import Options\n",
    "from selenium.webdriver.common.by import By\n",
    "from selenium.webdriver.chrome.service import Service\n",
    "from webdriver_manager.chrome import ChromeDriverManager\n",
    "from selenium.webdriver.support.ui import WebDriverWait\n",
    "from selenium.webdriver.support import expected_conditions as EC\n",
    "from selenium.webdriver.common.keys import Keys\n",
    "import time\n",
    "from fake_useragent import UserAgent\n",
    "import os\n",
    "from apscheduler.schedulers.background import BackgroundScheduler\n"
   ]
  },
  {
   "cell_type": "code",
   "execution_count": 5,
   "metadata": {},
   "outputs": [],
   "source": [
    "def define_driver_details_and_open_up_driver():\n",
    "  user_agent='Mozilla/5.0 (X11; Linux x86_64) AppleWebKit/537.36 (KHTML, like Gecko) Chrome/96.0.4664.110 Safari/537.36'\n",
    "  # options.headless = True\n",
    "  options = webdriver.ChromeOptions()\n",
    "  options.add_argument(f'user-agent={user_agent}')\n",
    "  options.add_argument(\"--start-maximized\")\n",
    "  \n",
    "  driver = webdriver.Chrome(service=Service(ChromeDriverManager().install()))\n",
    "  url = \"https://erp.iitkgp.ac.in/\" \n",
    "  driver.get(url)\n",
    "  "
   ]
  },
  {
   "cell_type": "code",
   "execution_count": 6,
   "metadata": {},
   "outputs": [],
   "source": [
    "#global variables \n",
    "def global_variables():\n",
    "  user_agent='Mozilla/5.0 (X11; Linux x86_64) AppleWebKit/537.36 (KHTML, like Gecko) Chrome/96.0.4664.110 Safari/537.36'\n",
    "  # options.headless = True\n",
    "  options = webdriver.ChromeOptions()\n",
    "  options.add_argument(f'user-agent={user_agent}')\n",
    "  options.add_argument(\"--start-maximized\")\n",
    "  \n",
    "  username = \"\"\n",
    "  password = \"\"\n",
    "  roll_no = \"\"\n",
    "  name = \"\"\n",
    "  m = {}\n",
    "  duration = 10  # seconds\n",
    "  freq = 440  # Hz"
   ]
  },
  {
   "cell_type": "code",
   "execution_count": 7,
   "metadata": {},
   "outputs": [],
   "source": [
    "def input_credentials():\n",
    "  username = \"19CH10001\"\n",
    "  password = \"aCEG@1970\"\n",
    "  roll_no = \"19EX20030\"\n",
    "  name = \"Abhilash Sinha\"\n",
    "  f_q = input(\"first question \")\n",
    "  f_ans = input(\"first answer\")\n",
    "  s_q = input(\"second question\")\n",
    "  s_ans = input(\"second answer\")\n",
    "  t_q = input(\"third question\")\n",
    "  t_ans = input(\"third answer\")\n",
    "  m[f_q] = f_ans\n",
    "  m[s_q] = s_ans  \n",
    "  m[t_q] = t_ans"
   ]
  },
  {
   "cell_type": "code",
   "execution_count": 3,
   "metadata": {},
   "outputs": [],
   "source": [
    "def login_to_erp():\n",
    "\n",
    "  driver = webdriver.Chrome(service=Service(ChromeDriverManager().install()))\n",
    "  url = \"https://erp.iitkgp.ac.in/\" \n",
    "  driver.get(url)\n",
    "  time.sleep(50)\n",
    "  \n",
    "  url = \"https://erp.iitkgp.ac.in/\" \n",
    "  driver.get(url)\n",
    "  time.sleep(3)\n",
    "\n",
    "  # find username/email field and send the username itself to the input field\n",
    "  driver.find_element(By.ID,\"user_id\").send_keys(username)\n",
    "  time.sleep(1)\n",
    "\n",
    "  # find password input field and insert password as well\n",
    "  driver.find_element(By.ID,\"password\").send_keys(password)\n",
    "  time.sleep(3)\n",
    "\n",
    "  #find question asked\n",
    "  question = driver.find_element(By.ID,\"question\").text\n",
    "  driver.find_element(By.ID,\"answer\").send_keys(m[question])\n",
    "  \n",
    "  # click login button\n",
    "  driver.find_element(By.ID,\"loginFormSubmitButton\").click()\n",
    "\n",
    "  #start scraping\n",
    "  get_to_notice_board()"
   ]
  },
  {
   "cell_type": "code",
   "execution_count": 11,
   "metadata": {},
   "outputs": [],
   "source": [
    "def get_to_notice_board():\n",
    "  try:\n",
    "    html_tree=html.fromstring(driver.page_source)\n",
    "    cdc_module_link = html_tree.xpath(\".//div[@class='navbar navbar-default']/div[2]/ul/li[3]/a/@href\")[0]\n",
    "\n",
    "    #get into cdc module\n",
    "    driver.get(\"https://erp.iitkgp.ac.in/IIT_ERP3/\"+cdc_module_link)\n",
    "\n",
    "    #click on STUDENT\n",
    "    driver.find_element(By.CLASS_NAME,\"text-primary\").click()\n",
    "\n",
    "    #click on application for placement/internship\n",
    "    driver.find_element(By.XPATH,\".//div[@class='panel-body']/div/a\").click()\n",
    "\n",
    "    #go to the notice board jsp\n",
    "    driver.get(\"https://erp.iitkgp.ac.in/TrainingPlacementSSO/Notice.jsp\")\n",
    "\n",
    "\n",
    "    #start a scheduler daemon\n",
    "    sched = BackgroundScheduler(daemon=True)\n",
    "    sched.add_job(check_jsp,'interval',minutes=5)\n",
    "    sched.start()\n",
    "\n",
    "  except:\n",
    "    #start from loggin in again\n",
    "    login_to_erp()"
   ]
  },
  {
   "cell_type": "code",
   "execution_count": 12,
   "metadata": {},
   "outputs": [],
   "source": [
    "def check_jsp():\n",
    "  html_tree = html.fromstring(driver.page_source)\n",
    "  for i in range(3,10):\n",
    "    try:\n",
    "      notice_text = html_tree.xpath(f\"(.//tr[@role='row'])[{i}]/td[6]/a/@title\")[0]\n",
    "      if roll_no in notice_text or name in notice_text:\n",
    "        print(notice_text)\n",
    "        print(\"found\")\n",
    "        print('\\a')\n",
    "        os.system('play -nq -t alsa synth {} sine {}'.format(duration, freq))\n",
    "        \n",
    "    except:\n",
    "      continue\n",
    "\n",
    "  driver.back()"
   ]
  },
  {
   "cell_type": "code",
   "execution_count": 8,
   "metadata": {},
   "outputs": [
    {
     "ename": "NameError",
     "evalue": "name 'm' is not defined",
     "output_type": "error",
     "traceback": [
      "\u001b[0;31m---------------------------------------------------------------------------\u001b[0m",
      "\u001b[0;31mNameError\u001b[0m                                 Traceback (most recent call last)",
      "\u001b[0;32m/tmp/ipykernel_146565/1388616317.py\u001b[0m in \u001b[0;36m<module>\u001b[0;34m\u001b[0m\n\u001b[1;32m      1\u001b[0m \u001b[0;31m# define_driver_details_and_open_up_driver()\u001b[0m\u001b[0;34m\u001b[0m\u001b[0;34m\u001b[0m\u001b[0m\n\u001b[1;32m      2\u001b[0m \u001b[0mglobal_variables\u001b[0m\u001b[0;34m(\u001b[0m\u001b[0;34m)\u001b[0m\u001b[0;34m\u001b[0m\u001b[0;34m\u001b[0m\u001b[0m\n\u001b[0;32m----> 3\u001b[0;31m \u001b[0minput_credentials\u001b[0m\u001b[0;34m(\u001b[0m\u001b[0;34m)\u001b[0m\u001b[0;34m\u001b[0m\u001b[0;34m\u001b[0m\u001b[0m\n\u001b[0m\u001b[1;32m      4\u001b[0m \u001b[0mlogin_to_erp\u001b[0m\u001b[0;34m(\u001b[0m\u001b[0;34m)\u001b[0m\u001b[0;34m\u001b[0m\u001b[0;34m\u001b[0m\u001b[0m\n\u001b[1;32m      5\u001b[0m \u001b[0mget_to_notice_board\u001b[0m\u001b[0;34m(\u001b[0m\u001b[0;34m)\u001b[0m\u001b[0;34m\u001b[0m\u001b[0;34m\u001b[0m\u001b[0m\n",
      "\u001b[0;32m/tmp/ipykernel_146565/1468341978.py\u001b[0m in \u001b[0;36minput_credentials\u001b[0;34m()\u001b[0m\n\u001b[1;32m     10\u001b[0m   \u001b[0mt_q\u001b[0m \u001b[0;34m=\u001b[0m \u001b[0minput\u001b[0m\u001b[0;34m(\u001b[0m\u001b[0;34m\"third question\"\u001b[0m\u001b[0;34m)\u001b[0m\u001b[0;34m\u001b[0m\u001b[0;34m\u001b[0m\u001b[0m\n\u001b[1;32m     11\u001b[0m   \u001b[0mt_ans\u001b[0m \u001b[0;34m=\u001b[0m \u001b[0minput\u001b[0m\u001b[0;34m(\u001b[0m\u001b[0;34m\"third answer\"\u001b[0m\u001b[0;34m)\u001b[0m\u001b[0;34m\u001b[0m\u001b[0;34m\u001b[0m\u001b[0m\n\u001b[0;32m---> 12\u001b[0;31m   \u001b[0mm\u001b[0m\u001b[0;34m[\u001b[0m\u001b[0mf_q\u001b[0m\u001b[0;34m]\u001b[0m \u001b[0;34m=\u001b[0m \u001b[0mf_ans\u001b[0m\u001b[0;34m\u001b[0m\u001b[0;34m\u001b[0m\u001b[0m\n\u001b[0m\u001b[1;32m     13\u001b[0m   \u001b[0mm\u001b[0m\u001b[0;34m[\u001b[0m\u001b[0ms_q\u001b[0m\u001b[0;34m]\u001b[0m \u001b[0;34m=\u001b[0m \u001b[0ms_ans\u001b[0m\u001b[0;34m\u001b[0m\u001b[0;34m\u001b[0m\u001b[0m\n\u001b[1;32m     14\u001b[0m   \u001b[0mm\u001b[0m\u001b[0;34m[\u001b[0m\u001b[0mt_q\u001b[0m\u001b[0;34m]\u001b[0m \u001b[0;34m=\u001b[0m \u001b[0mt_ans\u001b[0m\u001b[0;34m\u001b[0m\u001b[0;34m\u001b[0m\u001b[0m\n",
      "\u001b[0;31mNameError\u001b[0m: name 'm' is not defined"
     ]
    }
   ],
   "source": [
    "# define_driver_details_and_open_up_driver()\n",
    "global_variables()\n",
    "input_credentials()\n",
    "login_to_erp()\n",
    "get_to_notice_board()\n",
    "check_jsp()"
   ]
  },
  {
   "cell_type": "code",
   "execution_count": 14,
   "metadata": {},
   "outputs": [],
   "source": [
    "define_driver_details_and_open_up_driver()"
   ]
  },
  {
   "cell_type": "code",
   "execution_count": 7,
   "metadata": {},
   "outputs": [
    {
     "ename": "NameError",
     "evalue": "name 'global_variables' is not defined",
     "output_type": "error",
     "traceback": [
      "\u001b[0;31m---------------------------------------------------------------------------\u001b[0m",
      "\u001b[0;31mNameError\u001b[0m                                 Traceback (most recent call last)",
      "\u001b[0;32m/tmp/ipykernel_144067/4162110349.py\u001b[0m in \u001b[0;36m<module>\u001b[0;34m\u001b[0m\n\u001b[0;32m----> 1\u001b[0;31m \u001b[0mglobal_variables\u001b[0m\u001b[0;34m(\u001b[0m\u001b[0;34m)\u001b[0m\u001b[0;34m\u001b[0m\u001b[0;34m\u001b[0m\u001b[0m\n\u001b[0m",
      "\u001b[0;31mNameError\u001b[0m: name 'global_variables' is not defined"
     ]
    }
   ],
   "source": [
    "global_variables()"
   ]
  },
  {
   "cell_type": "code",
   "execution_count": null,
   "metadata": {},
   "outputs": [],
   "source": [
    "# m[\"Which empire do I belong?\"] = \"ROMAN\"\n",
    "# m[\"Where do I live?\"] = \"DUBRAJPUR\"\n",
    "# m[\"Who is my favorite writer?\"] = \"TAGORE\""
   ]
  },
  {
   "cell_type": "code",
   "execution_count": null,
   "metadata": {},
   "outputs": [],
   "source": [
    "username = \"19CH10001\"\n",
    "password = \"aCEG@1970\"\n",
    "roll_no = \"19EX20030\"\n",
    "name = \"Abhilash Sinha\"\n",
    "f_q = \"Which empire do I belong?\"\n",
    "f_ans = \"ROMAN\"\n",
    "s_q = \"Where do I live?\"\n",
    "s_ans = \"DUBRAJPUR\"\n",
    "t_q = \"Who is my favorite writer?\"\n",
    "t_ans = \"TAGORE\""
   ]
  }
 ],
 "metadata": {
  "kernelspec": {
   "display_name": "Python 3.9.7 ('base')",
   "language": "python",
   "name": "python3"
  },
  "language_info": {
   "codemirror_mode": {
    "name": "ipython",
    "version": 3
   },
   "file_extension": ".py",
   "mimetype": "text/x-python",
   "name": "python",
   "nbconvert_exporter": "python",
   "pygments_lexer": "ipython3",
   "version": "3.9.7"
  },
  "orig_nbformat": 4,
  "vscode": {
   "interpreter": {
    "hash": "95a208b126b07924f4b9792431b19c1915fc7f0a0d204c493e1626c8af92f894"
   }
  }
 },
 "nbformat": 4,
 "nbformat_minor": 2
}
